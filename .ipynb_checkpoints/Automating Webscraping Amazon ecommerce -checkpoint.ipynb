{
 "cells": [
  {
   "cell_type": "code",
   "execution_count": 2,
   "id": "9ba85b0f",
   "metadata": {},
   "outputs": [
    {
     "name": "stdout",
     "output_type": "stream",
     "text": [
      "Requirement already satisfied: autoscraper in c:\\users\\win10\\anaconda3\\envs\\myenv\\lib\\site-packages (1.1.12)\n",
      "Requirement already satisfied: lxml in c:\\users\\win10\\anaconda3\\envs\\myenv\\lib\\site-packages (from autoscraper) (4.6.3)\n",
      "Requirement already satisfied: requests in c:\\users\\win10\\anaconda3\\envs\\myenv\\lib\\site-packages (from autoscraper) (2.25.1)\n",
      "Requirement already satisfied: bs4 in c:\\users\\win10\\anaconda3\\envs\\myenv\\lib\\site-packages (from autoscraper) (0.0.1)\n",
      "Requirement already satisfied: beautifulsoup4 in c:\\users\\win10\\anaconda3\\envs\\myenv\\lib\\site-packages (from bs4->autoscraper) (4.9.3)\n",
      "Requirement already satisfied: soupsieve>1.2 in c:\\users\\win10\\anaconda3\\envs\\myenv\\lib\\site-packages (from beautifulsoup4->bs4->autoscraper) (2.2.1)\n",
      "Requirement already satisfied: idna<3,>=2.5 in c:\\users\\win10\\anaconda3\\envs\\myenv\\lib\\site-packages (from requests->autoscraper) (2.10)\n",
      "Requirement already satisfied: certifi>=2017.4.17 in c:\\users\\win10\\anaconda3\\envs\\myenv\\lib\\site-packages (from requests->autoscraper) (2020.12.5)\n",
      "Requirement already satisfied: urllib3<1.27,>=1.21.1 in c:\\users\\win10\\anaconda3\\envs\\myenv\\lib\\site-packages (from requests->autoscraper) (1.26.4)\n",
      "Requirement already satisfied: chardet<5,>=3.0.2 in c:\\users\\win10\\anaconda3\\envs\\myenv\\lib\\site-packages (from requests->autoscraper) (3.0.4)\n"
     ]
    }
   ],
   "source": [
    "!pip install autoscraper"
   ]
  },
  {
   "cell_type": "code",
   "execution_count": 7,
   "id": "c32a7625",
   "metadata": {},
   "outputs": [],
   "source": [
    "from autoscraper import AutoScraper"
   ]
  },
  {
   "cell_type": "code",
   "execution_count": 9,
   "id": "f1492bd8",
   "metadata": {},
   "outputs": [],
   "source": [
    "amazon_url=\"https://www.amazon.in/s?k=iphones\"\n",
    "\n",
    "wanted_list=[\"₹58,400\",\"Apple iPhone 11 (128GB) - Black\"]"
   ]
  },
  {
   "cell_type": "code",
   "execution_count": 10,
   "id": "11cc44b8",
   "metadata": {},
   "outputs": [
    {
     "name": "stdout",
     "output_type": "stream",
     "text": [
      "['Apple iPhone 11 (128GB) - Black', 'Apple iPhone 11 (128GB) - White', 'Apple iPhone 12 Mini (128GB) - Purple', 'Apple iPhone 12 (128GB) - Green', 'Apple iPhone 12 (128GB) - Blue', 'Apple iPhone 13 (256 GB) - Green', 'Apple iPhone 13 Pro Max (256GB) - Sierra Blue', 'Apple iPhone 13 Pro (128GB) - Sierra Blue', 'Apple iPhone 11 (128GB) - Yellow', 'Apple iPhone 12 (64GB) - (Product) RED', 'Apple iPhone 13 (128GB) - Green', 'Apple iPhone 13 (128GB) - Starlight', 'Apple iPhone 13 (256GB) - Blue', 'Apple iPhone 13 (128GB) - Pink', 'Apple iPhone 13 (128GB) - Midnight', 'Apple iPhone 12 Mini (64GB) - Green']\n"
     ]
    }
   ],
   "source": [
    "scraper=AutoScraper()\n",
    "result=scraper.build(amazon_url,wanted_list)\n",
    "print(result)"
   ]
  },
  {
   "cell_type": "code",
   "execution_count": 11,
   "id": "32cef483",
   "metadata": {},
   "outputs": [
    {
     "data": {
      "text/plain": [
       "{'rule_25kv': ['Apple iPhone 11 (128GB) - Black',\n",
       "  'Apple iPhone 11 (128GB) - White',\n",
       "  'Apple iPhone 12 Mini (128GB) - Purple',\n",
       "  'Apple iPhone 12 (128GB) - Green',\n",
       "  'Apple iPhone 12 (128GB) - Blue',\n",
       "  'Apple iPhone 13 (256 GB) - Green',\n",
       "  'Apple iPhone 13 Pro Max (256GB) - Sierra Blue',\n",
       "  'Apple iPhone 13 Pro (128GB) - Sierra Blue',\n",
       "  'Apple iPhone 11 (128GB) - Yellow',\n",
       "  'Apple iPhone 12 (64GB) - (Product) RED',\n",
       "  'Apple iPhone 13 (128GB) - Green',\n",
       "  'Apple iPhone 13 (128GB) - Starlight',\n",
       "  'Apple iPhone 13 (256GB) - Blue',\n",
       "  'Apple iPhone 13 (128GB) - Pink',\n",
       "  'Apple iPhone 13 (128GB) - Midnight',\n",
       "  'Apple iPhone 12 Mini (64GB) - Green'],\n",
       " 'rule_jfgo': ['Apple iPhone 11 (128GB) - Black',\n",
       "  'Apple iPhone 11 (128GB) - White',\n",
       "  'Apple iPhone 12 Mini (128GB) - Purple',\n",
       "  'Apple iPhone 12 (128GB) - Green',\n",
       "  'Apple iPhone 12 (128GB) - Blue',\n",
       "  'Apple iPhone 13 (256 GB) - Green',\n",
       "  'Apple iPhone 13 Pro Max (256GB) - Sierra Blue',\n",
       "  'Apple iPhone 13 Pro (128GB) - Sierra Blue',\n",
       "  'Apple iPhone 11 (128GB) - Yellow',\n",
       "  'Apple iPhone 12 (64GB) - (Product) RED',\n",
       "  'Apple iPhone 13 (128GB) - Green',\n",
       "  'Apple iPhone 13 (128GB) - Starlight',\n",
       "  'Apple iPhone 13 (256GB) - Blue',\n",
       "  'Apple iPhone 13 (128GB) - Pink',\n",
       "  'Apple iPhone 13 (128GB) - Midnight',\n",
       "  'Apple iPhone 12 Mini (64GB) - Green']}"
      ]
     },
     "execution_count": 11,
     "metadata": {},
     "output_type": "execute_result"
    }
   ],
   "source": [
    "scraper.get_result_similar(amazon_url,grouped=True)"
   ]
  },
  {
   "cell_type": "code",
   "execution_count": 12,
   "id": "3b1d93c4",
   "metadata": {},
   "outputs": [],
   "source": [
    "scraper.set_rule_aliases({'rule_25kv':'Title','rule_jfgo':'Price'})\n",
    "scraper.keep_rules(['rule_q4do','rule_hbsb'])\n",
    "scraper.save('amazon-search')"
   ]
  },
  {
   "cell_type": "code",
   "execution_count": 13,
   "id": "e9f46ecb",
   "metadata": {},
   "outputs": [],
   "source": [
    "results=scraper.get_result_similar('https://www.amazon.in/s?k=mi+phones+under+15000',group_by_alias=True)"
   ]
  },
  {
   "cell_type": "code",
   "execution_count": 15,
   "id": "c6ddeb9a",
   "metadata": {},
   "outputs": [
    {
     "ename": "KeyError",
     "evalue": "'price'",
     "output_type": "error",
     "traceback": [
      "\u001b[1;31m---------------------------------------------------------------------------\u001b[0m",
      "\u001b[1;31mKeyError\u001b[0m                                  Traceback (most recent call last)",
      "Input \u001b[1;32mIn [15]\u001b[0m, in \u001b[0;36m<cell line: 1>\u001b[1;34m()\u001b[0m\n\u001b[1;32m----> 1\u001b[0m \u001b[43mresults\u001b[49m\u001b[43m[\u001b[49m\u001b[38;5;124;43m'\u001b[39;49m\u001b[38;5;124;43mprice\u001b[39;49m\u001b[38;5;124;43m'\u001b[39;49m\u001b[43m]\u001b[49m\n",
      "\u001b[1;31mKeyError\u001b[0m: 'price'"
     ]
    }
   ],
   "source": [
    "results['Price']"
   ]
  },
  {
   "cell_type": "code",
   "execution_count": 1,
   "id": "3ebf5d72",
   "metadata": {},
   "outputs": [
    {
     "name": "stdout",
     "output_type": "stream",
     "text": [
      "Requirement already satisfied: flask in c:\\users\\asus\\anaconda3\\lib\\site-packages (2.0.3)Note: you may need to restart the kernel to use updated packages.\n",
      "\n",
      "Requirement already satisfied: Werkzeug>=2.0 in c:\\users\\asus\\anaconda3\\lib\\site-packages (from flask) (2.0.3)\n",
      "Requirement already satisfied: click>=7.1.2 in c:\\users\\asus\\anaconda3\\lib\\site-packages (from flask) (8.0.4)\n",
      "Requirement already satisfied: Jinja2>=3.0 in c:\\users\\asus\\anaconda3\\lib\\site-packages (from flask) (3.0.3)\n",
      "Requirement already satisfied: itsdangerous>=2.0 in c:\\users\\asus\\anaconda3\\lib\\site-packages (from flask) (2.0.1)\n",
      "Requirement already satisfied: colorama; platform_system == \"Windows\" in c:\\users\\asus\\anaconda3\\lib\\site-packages (from click>=7.1.2->flask) (0.4.4)\n",
      "Requirement already satisfied: MarkupSafe>=2.0 in c:\\users\\asus\\anaconda3\\lib\\site-packages (from Jinja2>=3.0->flask) (2.1.1)\n"
     ]
    }
   ],
   "source": [
    "pip install flask"
   ]
  },
  {
   "cell_type": "code",
   "execution_count": null,
   "id": "d3c79518",
   "metadata": {},
   "outputs": [],
   "source": []
  },
  {
   "cell_type": "code",
   "execution_count": null,
   "id": "ca60befe",
   "metadata": {},
   "outputs": [],
   "source": []
  },
  {
   "cell_type": "code",
   "execution_count": null,
   "id": "b61b880a",
   "metadata": {},
   "outputs": [],
   "source": []
  }
 ],
 "metadata": {
  "kernelspec": {
   "display_name": "Python 3 (ipykernel)",
   "language": "python",
   "name": "python3"
  },
  "language_info": {
   "codemirror_mode": {
    "name": "ipython",
    "version": 3
   },
   "file_extension": ".py",
   "mimetype": "text/x-python",
   "name": "python",
   "nbconvert_exporter": "python",
   "pygments_lexer": "ipython3",
   "version": "3.8.5"
  }
 },
 "nbformat": 4,
 "nbformat_minor": 5
}
